{
 "cells": [
  {
   "cell_type": "code",
   "execution_count": 12,
   "id": "46cc8b1a-add1-44ec-9c12-5e9e2d381a63",
   "metadata": {},
   "outputs": [
    {
     "name": "stdout",
     "output_type": "stream",
     "text": [
      "          prs             topics      sentiment  score  colors\n",
      "0   Detractor                N/A       Negative      5     red\n",
      "1   Detractor       Subscription       Negative      0     red\n",
      "2   Detractor       Subscription       Negative      0     red\n",
      "3     Passive            Mileage       Negative      8  yellow\n",
      "4     Passive                N/A       Negative      7  yellow\n",
      "..        ...                ...            ...    ...     ...\n",
      "57  Detractor  Assisted Delivery  Very negative      6     red\n",
      "58  Detractor       Subscription  Very negative      0     red\n",
      "59  Detractor                N/A  Very negative      0     red\n",
      "60  Detractor            Mileage  Very negative      3     red\n",
      "61  Detractor            Invoice  Very negative      2     red\n",
      "\n",
      "[62 rows x 5 columns]\n"
     ]
    },
    {
     "data": {
      "application/vnd.plotly.v1+json": {
       "config": {
        "plotlyServerURL": "https://plot.ly"
       },
       "data": [
        {
         "branchvalues": "total",
         "customdata": [
          [
           "yellow"
          ],
          [
           "yellow"
          ],
          [
           "red"
          ],
          [
           "red"
          ],
          [
           "red"
          ],
          [
           "(?)"
          ],
          [
           "red"
          ],
          [
           "green"
          ],
          [
           "red"
          ],
          [
           "red"
          ],
          [
           "red"
          ],
          [
           "red"
          ],
          [
           "yellow"
          ],
          [
           "green"
          ],
          [
           "green"
          ],
          [
           "yellow"
          ],
          [
           "red"
          ],
          [
           "green"
          ],
          [
           "red"
          ],
          [
           "(?)"
          ],
          [
           "red"
          ],
          [
           "red"
          ],
          [
           "green"
          ],
          [
           "yellow"
          ],
          [
           "yellow"
          ],
          [
           "green"
          ],
          [
           "red"
          ],
          [
           "green"
          ],
          [
           "red"
          ],
          [
           "yellow"
          ],
          [
           "red"
          ],
          [
           "green"
          ],
          [
           "red"
          ],
          [
           "red"
          ],
          [
           "red"
          ],
          [
           "red"
          ]
         ],
         "domain": {
          "x": [
           0,
           1
          ],
          "y": [
           0,
           1
          ]
         },
         "hovertemplate": "labels=%{label}<br>score=%{value}<br>parent=%{parent}<br>id=%{id}<br>colors=%{customdata[0]}<extra></extra>",
         "ids": [
          "Negative/Passive/Mileage",
          "Negative/Passive",
          "Very negative/Detractor/Subscription",
          "Negative/Detractor/Subscription",
          "Negative/Detractor/Estimate",
          "Very negative",
          "Negative/Detractor/N/A",
          "Negative/Promoter",
          "Very negative/Detractor/Accounting Automation",
          "Very negative/Detractor",
          "Negative/Detractor",
          "Very negative/Detractor/Usability",
          "Negative/Passive/Accounting Automation",
          "Negative/Promoter/Other",
          "Negative/Promoter/N/A",
          "Negative/Passive/N/A",
          "Very negative/Detractor/Assisted Delivery",
          "Negative/Promoter/Milieage",
          "Negative/Detractor/Accounting Automation",
          "Negative",
          "Very negative/Detractor/Logging In",
          "Negative/Detractor/Logging In",
          "Negative/Promoter/Invoice",
          "Very negative/Passive/Expense",
          "Negative/Passive/Invoice",
          "Negative/Promoter/Mileage",
          "Very negative/Detractor/Invoice",
          "Negative/Promoter/Expense",
          "Negative/Detractor/Assisted Delivery",
          "Very negative/Passive",
          "Negative/Detractor/Usability",
          "Negative/Promoter/Accounting Automation",
          "Very negative/Detractor/N/A",
          "Very negative/Detractor/Mileage",
          "Negative/Detractor/Invoice",
          "Negative/Detractor/Bookkeeping"
         ],
         "labels": [
          "Mileage",
          "Passive",
          "Subscription",
          "Subscription",
          "Estimate",
          "Very negative",
          "N/A",
          "Promoter",
          "Accounting Automation",
          "Detractor",
          "Detractor",
          "Usability",
          "Accounting Automation",
          "Other",
          "N/A",
          "N/A",
          "Assisted Delivery",
          "Milieage",
          "Accounting Automation",
          "Negative",
          "Logging In",
          "Logging In",
          "Invoice",
          "Expense",
          "Invoice",
          "Mileage",
          "Invoice",
          "Expense",
          "Assisted Delivery",
          "Passive",
          "Usability",
          "Accounting Automation",
          "N/A",
          "Mileage",
          "Invoice",
          "Bookkeeping"
         ],
         "marker": {
          "colors": [
           "#636efa",
           "#636efa",
           "#EF553B",
           "#EF553B",
           "#EF553B",
           "#00cc96",
           "#EF553B",
           "#ab63fa",
           "#EF553B",
           "#EF553B",
           "#EF553B",
           "#EF553B",
           "#636efa",
           "#ab63fa",
           "#ab63fa",
           "#636efa",
           "#EF553B",
           "#ab63fa",
           "#EF553B",
           "#00cc96",
           "#EF553B",
           "#EF553B",
           "#ab63fa",
           "#636efa",
           "#636efa",
           "#ab63fa",
           "#EF553B",
           "#ab63fa",
           "#EF553B",
           "#636efa",
           "#EF553B",
           "#ab63fa",
           "#EF553B",
           "#EF553B",
           "#EF553B",
           "#EF553B"
          ]
         },
         "name": "",
         "parents": [
          "Negative/Passive",
          "Negative",
          "Very negative/Detractor",
          "Negative/Detractor",
          "Negative/Detractor",
          "",
          "Negative/Detractor",
          "Negative",
          "Very negative/Detractor",
          "Very negative",
          "Negative",
          "Very negative/Detractor",
          "Negative/Passive",
          "Negative/Promoter",
          "Negative/Promoter",
          "Negative/Passive",
          "Very negative/Detractor",
          "Negative/Promoter",
          "Negative/Detractor",
          "",
          "Very negative/Detractor",
          "Negative/Detractor",
          "Negative/Promoter",
          "Very negative/Passive",
          "Negative/Passive",
          "Negative/Promoter",
          "Very negative/Detractor",
          "Negative/Promoter",
          "Negative/Detractor",
          "Very negative",
          "Negative/Detractor",
          "Negative/Promoter",
          "Very negative/Detractor",
          "Very negative/Detractor",
          "Negative/Detractor",
          "Negative/Detractor"
         ],
         "type": "sunburst",
         "values": [
          24,
          74,
          0,
          0,
          6,
          36,
          42,
          74,
          5,
          29,
          88,
          3,
          8,
          9,
          18,
          35,
          8,
          10,
          5,
          236,
          1,
          0,
          9,
          7,
          7,
          9,
          4,
          10,
          5,
          7,
          8,
          9,
          2,
          6,
          16,
          6
         ]
        }
       ],
       "layout": {
        "autosize": true,
        "legend": {
         "tracegroupgap": 0
        },
        "margin": {
         "t": 60
        },
        "template": {
         "data": {
          "bar": [
           {
            "error_x": {
             "color": "#2a3f5f"
            },
            "error_y": {
             "color": "#2a3f5f"
            },
            "marker": {
             "line": {
              "color": "#E5ECF6",
              "width": 0.5
             },
             "pattern": {
              "fillmode": "overlay",
              "size": 10,
              "solidity": 0.2
             }
            },
            "type": "bar"
           }
          ],
          "barpolar": [
           {
            "marker": {
             "line": {
              "color": "#E5ECF6",
              "width": 0.5
             },
             "pattern": {
              "fillmode": "overlay",
              "size": 10,
              "solidity": 0.2
             }
            },
            "type": "barpolar"
           }
          ],
          "carpet": [
           {
            "aaxis": {
             "endlinecolor": "#2a3f5f",
             "gridcolor": "white",
             "linecolor": "white",
             "minorgridcolor": "white",
             "startlinecolor": "#2a3f5f"
            },
            "baxis": {
             "endlinecolor": "#2a3f5f",
             "gridcolor": "white",
             "linecolor": "white",
             "minorgridcolor": "white",
             "startlinecolor": "#2a3f5f"
            },
            "type": "carpet"
           }
          ],
          "choropleth": [
           {
            "colorbar": {
             "outlinewidth": 0,
             "ticks": ""
            },
            "type": "choropleth"
           }
          ],
          "contour": [
           {
            "colorbar": {
             "outlinewidth": 0,
             "ticks": ""
            },
            "colorscale": [
             [
              0,
              "#0d0887"
             ],
             [
              0.1111111111111111,
              "#46039f"
             ],
             [
              0.2222222222222222,
              "#7201a8"
             ],
             [
              0.3333333333333333,
              "#9c179e"
             ],
             [
              0.4444444444444444,
              "#bd3786"
             ],
             [
              0.5555555555555556,
              "#d8576b"
             ],
             [
              0.6666666666666666,
              "#ed7953"
             ],
             [
              0.7777777777777778,
              "#fb9f3a"
             ],
             [
              0.8888888888888888,
              "#fdca26"
             ],
             [
              1,
              "#f0f921"
             ]
            ],
            "type": "contour"
           }
          ],
          "contourcarpet": [
           {
            "colorbar": {
             "outlinewidth": 0,
             "ticks": ""
            },
            "type": "contourcarpet"
           }
          ],
          "heatmap": [
           {
            "colorbar": {
             "outlinewidth": 0,
             "ticks": ""
            },
            "colorscale": [
             [
              0,
              "#0d0887"
             ],
             [
              0.1111111111111111,
              "#46039f"
             ],
             [
              0.2222222222222222,
              "#7201a8"
             ],
             [
              0.3333333333333333,
              "#9c179e"
             ],
             [
              0.4444444444444444,
              "#bd3786"
             ],
             [
              0.5555555555555556,
              "#d8576b"
             ],
             [
              0.6666666666666666,
              "#ed7953"
             ],
             [
              0.7777777777777778,
              "#fb9f3a"
             ],
             [
              0.8888888888888888,
              "#fdca26"
             ],
             [
              1,
              "#f0f921"
             ]
            ],
            "type": "heatmap"
           }
          ],
          "heatmapgl": [
           {
            "colorbar": {
             "outlinewidth": 0,
             "ticks": ""
            },
            "colorscale": [
             [
              0,
              "#0d0887"
             ],
             [
              0.1111111111111111,
              "#46039f"
             ],
             [
              0.2222222222222222,
              "#7201a8"
             ],
             [
              0.3333333333333333,
              "#9c179e"
             ],
             [
              0.4444444444444444,
              "#bd3786"
             ],
             [
              0.5555555555555556,
              "#d8576b"
             ],
             [
              0.6666666666666666,
              "#ed7953"
             ],
             [
              0.7777777777777778,
              "#fb9f3a"
             ],
             [
              0.8888888888888888,
              "#fdca26"
             ],
             [
              1,
              "#f0f921"
             ]
            ],
            "type": "heatmapgl"
           }
          ],
          "histogram": [
           {
            "marker": {
             "pattern": {
              "fillmode": "overlay",
              "size": 10,
              "solidity": 0.2
             }
            },
            "type": "histogram"
           }
          ],
          "histogram2d": [
           {
            "colorbar": {
             "outlinewidth": 0,
             "ticks": ""
            },
            "colorscale": [
             [
              0,
              "#0d0887"
             ],
             [
              0.1111111111111111,
              "#46039f"
             ],
             [
              0.2222222222222222,
              "#7201a8"
             ],
             [
              0.3333333333333333,
              "#9c179e"
             ],
             [
              0.4444444444444444,
              "#bd3786"
             ],
             [
              0.5555555555555556,
              "#d8576b"
             ],
             [
              0.6666666666666666,
              "#ed7953"
             ],
             [
              0.7777777777777778,
              "#fb9f3a"
             ],
             [
              0.8888888888888888,
              "#fdca26"
             ],
             [
              1,
              "#f0f921"
             ]
            ],
            "type": "histogram2d"
           }
          ],
          "histogram2dcontour": [
           {
            "colorbar": {
             "outlinewidth": 0,
             "ticks": ""
            },
            "colorscale": [
             [
              0,
              "#0d0887"
             ],
             [
              0.1111111111111111,
              "#46039f"
             ],
             [
              0.2222222222222222,
              "#7201a8"
             ],
             [
              0.3333333333333333,
              "#9c179e"
             ],
             [
              0.4444444444444444,
              "#bd3786"
             ],
             [
              0.5555555555555556,
              "#d8576b"
             ],
             [
              0.6666666666666666,
              "#ed7953"
             ],
             [
              0.7777777777777778,
              "#fb9f3a"
             ],
             [
              0.8888888888888888,
              "#fdca26"
             ],
             [
              1,
              "#f0f921"
             ]
            ],
            "type": "histogram2dcontour"
           }
          ],
          "mesh3d": [
           {
            "colorbar": {
             "outlinewidth": 0,
             "ticks": ""
            },
            "type": "mesh3d"
           }
          ],
          "parcoords": [
           {
            "line": {
             "colorbar": {
              "outlinewidth": 0,
              "ticks": ""
             }
            },
            "type": "parcoords"
           }
          ],
          "pie": [
           {
            "automargin": true,
            "type": "pie"
           }
          ],
          "scatter": [
           {
            "fillpattern": {
             "fillmode": "overlay",
             "size": 10,
             "solidity": 0.2
            },
            "type": "scatter"
           }
          ],
          "scatter3d": [
           {
            "line": {
             "colorbar": {
              "outlinewidth": 0,
              "ticks": ""
             }
            },
            "marker": {
             "colorbar": {
              "outlinewidth": 0,
              "ticks": ""
             }
            },
            "type": "scatter3d"
           }
          ],
          "scattercarpet": [
           {
            "marker": {
             "colorbar": {
              "outlinewidth": 0,
              "ticks": ""
             }
            },
            "type": "scattercarpet"
           }
          ],
          "scattergeo": [
           {
            "marker": {
             "colorbar": {
              "outlinewidth": 0,
              "ticks": ""
             }
            },
            "type": "scattergeo"
           }
          ],
          "scattergl": [
           {
            "marker": {
             "colorbar": {
              "outlinewidth": 0,
              "ticks": ""
             }
            },
            "type": "scattergl"
           }
          ],
          "scattermapbox": [
           {
            "marker": {
             "colorbar": {
              "outlinewidth": 0,
              "ticks": ""
             }
            },
            "type": "scattermapbox"
           }
          ],
          "scatterpolar": [
           {
            "marker": {
             "colorbar": {
              "outlinewidth": 0,
              "ticks": ""
             }
            },
            "type": "scatterpolar"
           }
          ],
          "scatterpolargl": [
           {
            "marker": {
             "colorbar": {
              "outlinewidth": 0,
              "ticks": ""
             }
            },
            "type": "scatterpolargl"
           }
          ],
          "scatterternary": [
           {
            "marker": {
             "colorbar": {
              "outlinewidth": 0,
              "ticks": ""
             }
            },
            "type": "scatterternary"
           }
          ],
          "surface": [
           {
            "colorbar": {
             "outlinewidth": 0,
             "ticks": ""
            },
            "colorscale": [
             [
              0,
              "#0d0887"
             ],
             [
              0.1111111111111111,
              "#46039f"
             ],
             [
              0.2222222222222222,
              "#7201a8"
             ],
             [
              0.3333333333333333,
              "#9c179e"
             ],
             [
              0.4444444444444444,
              "#bd3786"
             ],
             [
              0.5555555555555556,
              "#d8576b"
             ],
             [
              0.6666666666666666,
              "#ed7953"
             ],
             [
              0.7777777777777778,
              "#fb9f3a"
             ],
             [
              0.8888888888888888,
              "#fdca26"
             ],
             [
              1,
              "#f0f921"
             ]
            ],
            "type": "surface"
           }
          ],
          "table": [
           {
            "cells": {
             "fill": {
              "color": "#EBF0F8"
             },
             "line": {
              "color": "white"
             }
            },
            "header": {
             "fill": {
              "color": "#C8D4E3"
             },
             "line": {
              "color": "white"
             }
            },
            "type": "table"
           }
          ]
         },
         "layout": {
          "annotationdefaults": {
           "arrowcolor": "#2a3f5f",
           "arrowhead": 0,
           "arrowwidth": 1
          },
          "autotypenumbers": "strict",
          "coloraxis": {
           "colorbar": {
            "outlinewidth": 0,
            "ticks": ""
           }
          },
          "colorscale": {
           "diverging": [
            [
             0,
             "#8e0152"
            ],
            [
             0.1,
             "#c51b7d"
            ],
            [
             0.2,
             "#de77ae"
            ],
            [
             0.3,
             "#f1b6da"
            ],
            [
             0.4,
             "#fde0ef"
            ],
            [
             0.5,
             "#f7f7f7"
            ],
            [
             0.6,
             "#e6f5d0"
            ],
            [
             0.7,
             "#b8e186"
            ],
            [
             0.8,
             "#7fbc41"
            ],
            [
             0.9,
             "#4d9221"
            ],
            [
             1,
             "#276419"
            ]
           ],
           "sequential": [
            [
             0,
             "#0d0887"
            ],
            [
             0.1111111111111111,
             "#46039f"
            ],
            [
             0.2222222222222222,
             "#7201a8"
            ],
            [
             0.3333333333333333,
             "#9c179e"
            ],
            [
             0.4444444444444444,
             "#bd3786"
            ],
            [
             0.5555555555555556,
             "#d8576b"
            ],
            [
             0.6666666666666666,
             "#ed7953"
            ],
            [
             0.7777777777777778,
             "#fb9f3a"
            ],
            [
             0.8888888888888888,
             "#fdca26"
            ],
            [
             1,
             "#f0f921"
            ]
           ],
           "sequentialminus": [
            [
             0,
             "#0d0887"
            ],
            [
             0.1111111111111111,
             "#46039f"
            ],
            [
             0.2222222222222222,
             "#7201a8"
            ],
            [
             0.3333333333333333,
             "#9c179e"
            ],
            [
             0.4444444444444444,
             "#bd3786"
            ],
            [
             0.5555555555555556,
             "#d8576b"
            ],
            [
             0.6666666666666666,
             "#ed7953"
            ],
            [
             0.7777777777777778,
             "#fb9f3a"
            ],
            [
             0.8888888888888888,
             "#fdca26"
            ],
            [
             1,
             "#f0f921"
            ]
           ]
          },
          "colorway": [
           "#636efa",
           "#EF553B",
           "#00cc96",
           "#ab63fa",
           "#FFA15A",
           "#19d3f3",
           "#FF6692",
           "#B6E880",
           "#FF97FF",
           "#FECB52"
          ],
          "font": {
           "color": "#2a3f5f"
          },
          "geo": {
           "bgcolor": "white",
           "lakecolor": "white",
           "landcolor": "#E5ECF6",
           "showlakes": true,
           "showland": true,
           "subunitcolor": "white"
          },
          "hoverlabel": {
           "align": "left"
          },
          "hovermode": "closest",
          "mapbox": {
           "style": "light"
          },
          "paper_bgcolor": "white",
          "plot_bgcolor": "#E5ECF6",
          "polar": {
           "angularaxis": {
            "gridcolor": "white",
            "linecolor": "white",
            "ticks": ""
           },
           "bgcolor": "#E5ECF6",
           "radialaxis": {
            "gridcolor": "white",
            "linecolor": "white",
            "ticks": ""
           }
          },
          "scene": {
           "xaxis": {
            "backgroundcolor": "#E5ECF6",
            "gridcolor": "white",
            "gridwidth": 2,
            "linecolor": "white",
            "showbackground": true,
            "ticks": "",
            "zerolinecolor": "white"
           },
           "yaxis": {
            "backgroundcolor": "#E5ECF6",
            "gridcolor": "white",
            "gridwidth": 2,
            "linecolor": "white",
            "showbackground": true,
            "ticks": "",
            "zerolinecolor": "white"
           },
           "zaxis": {
            "backgroundcolor": "#E5ECF6",
            "gridcolor": "white",
            "gridwidth": 2,
            "linecolor": "white",
            "showbackground": true,
            "ticks": "",
            "zerolinecolor": "white"
           }
          },
          "shapedefaults": {
           "line": {
            "color": "#2a3f5f"
           }
          },
          "ternary": {
           "aaxis": {
            "gridcolor": "white",
            "linecolor": "white",
            "ticks": ""
           },
           "baxis": {
            "gridcolor": "white",
            "linecolor": "white",
            "ticks": ""
           },
           "bgcolor": "#E5ECF6",
           "caxis": {
            "gridcolor": "white",
            "linecolor": "white",
            "ticks": ""
           }
          },
          "title": {
           "x": 0.05
          },
          "xaxis": {
           "automargin": true,
           "gridcolor": "white",
           "linecolor": "white",
           "ticks": "",
           "title": {
            "standoff": 15
           },
           "zerolinecolor": "white",
           "zerolinewidth": 2
          },
          "yaxis": {
           "automargin": true,
           "gridcolor": "white",
           "linecolor": "white",
           "ticks": "",
           "title": {
            "standoff": 15
           },
           "zerolinecolor": "white",
           "zerolinewidth": 2
          }
         }
        }
       }
      },
      "image/png": "[encoded data removed]",
      "text/html": [
       "<div>                            <div id=\"35c4a4c3-93cf-419e-9306-d929bba971e7\" class=\"plotly-graph-div\" style=\"height:525px; width:100%;\"></div>            <script type=\"text/javascript\">                require([\"plotly\"], function(Plotly) {                    window.PLOTLYENV=window.PLOTLYENV || {};                                    if (document.getElementById(\"35c4a4c3-93cf-419e-9306-d929bba971e7\")) {                    Plotly.newPlot(                        \"35c4a4c3-93cf-419e-9306-d929bba971e7\",                        [{\"branchvalues\":\"total\",\"customdata\":[[\"yellow\"],[\"yellow\"],[\"red\"],[\"red\"],[\"red\"],[\"(?)\"],[\"red\"],[\"green\"],[\"red\"],[\"red\"],[\"red\"],[\"red\"],[\"yellow\"],[\"green\"],[\"green\"],[\"yellow\"],[\"red\"],[\"green\"],[\"red\"],[\"(?)\"],[\"red\"],[\"red\"],[\"green\"],[\"yellow\"],[\"yellow\"],[\"green\"],[\"red\"],[\"green\"],[\"red\"],[\"yellow\"],[\"red\"],[\"green\"],[\"red\"],[\"red\"],[\"red\"],[\"red\"]],\"domain\":{\"x\":[0.0,1.0],\"y\":[0.0,1.0]},\"hovertemplate\":\"labels=%{label}<br>score=%{value}<br>parent=%{parent}<br>id=%{id}<br>colors=%{customdata[0]}<extra></extra>\",\"ids\":[\"Negative/Passive/Mileage\",\"Negative/Passive\",\"Very negative/Detractor/Subscription\",\"Negative/Detractor/Subscription\",\"Negative/Detractor/Estimate\",\"Very negative\",\"Negative/Detractor/N/A\",\"Negative/Promoter\",\"Very negative/Detractor/Accounting Automation\",\"Very negative/Detractor\",\"Negative/Detractor\",\"Very negative/Detractor/Usability\",\"Negative/Passive/Accounting Automation\",\"Negative/Promoter/Other\",\"Negative/Promoter/N/A\",\"Negative/Passive/N/A\",\"Very negative/Detractor/Assisted Delivery\",\"Negative/Promoter/Milieage\",\"Negative/Detractor/Accounting Automation\",\"Negative\",\"Very negative/Detractor/Logging In\",\"Negative/Detractor/Logging In\",\"Negative/Promoter/Invoice\",\"Very negative/Passive/Expense\",\"Negative/Passive/Invoice\",\"Negative/Promoter/Mileage\",\"Very negative/Detractor/Invoice\",\"Negative/Promoter/Expense\",\"Negative/Detractor/Assisted Delivery\",\"Very negative/Passive\",\"Negative/Detractor/Usability\",\"Negative/Promoter/Accounting Automation\",\"Very negative/Detractor/N/A\",\"Very negative/Detractor/Mileage\",\"Negative/Detractor/Invoice\",\"Negative/Detractor/Bookkeeping\"],\"labels\":[\"Mileage\",\"Passive\",\"Subscription\",\"Subscription\",\"Estimate\",\"Very negative\",\"N/A\",\"Promoter\",\"Accounting Automation\",\"Detractor\",\"Detractor\",\"Usability\",\"Accounting Automation\",\"Other\",\"N/A\",\"N/A\",\"Assisted Delivery\",\"Milieage\",\"Accounting Automation\",\"Negative\",\"Logging In\",\"Logging In\",\"Invoice\",\"Expense\",\"Invoice\",\"Mileage\",\"Invoice\",\"Expense\",\"Assisted Delivery\",\"Passive\",\"Usability\",\"Accounting Automation\",\"N/A\",\"Mileage\",\"Invoice\",\"Bookkeeping\"],\"marker\":{\"colors\":[\"#636efa\",\"#636efa\",\"#EF553B\",\"#EF553B\",\"#EF553B\",\"#00cc96\",\"#EF553B\",\"#ab63fa\",\"#EF553B\",\"#EF553B\",\"#EF553B\",\"#EF553B\",\"#636efa\",\"#ab63fa\",\"#ab63fa\",\"#636efa\",\"#EF553B\",\"#ab63fa\",\"#EF553B\",\"#00cc96\",\"#EF553B\",\"#EF553B\",\"#ab63fa\",\"#636efa\",\"#636efa\",\"#ab63fa\",\"#EF553B\",\"#ab63fa\",\"#EF553B\",\"#636efa\",\"#EF553B\",\"#ab63fa\",\"#EF553B\",\"#EF553B\",\"#EF553B\",\"#EF553B\"]},\"name\":\"\",\"parents\":[\"Negative/Passive\",\"Negative\",\"Very negative/Detractor\",\"Negative/Detractor\",\"Negative/Detractor\",\"\",\"Negative/Detractor\",\"Negative\",\"Very negative/Detractor\",\"Very negative\",\"Negative\",\"Very negative/Detractor\",\"Negative/Passive\",\"Negative/Promoter\",\"Negative/Promoter\",\"Negative/Passive\",\"Very negative/Detractor\",\"Negative/Promoter\",\"Negative/Detractor\",\"\",\"Very negative/Detractor\",\"Negative/Detractor\",\"Negative/Promoter\",\"Very negative/Passive\",\"Negative/Passive\",\"Negative/Promoter\",\"Very negative/Detractor\",\"Negative/Promoter\",\"Negative/Detractor\",\"Very negative\",\"Negative/Detractor\",\"Negative/Promoter\",\"Very negative/Detractor\",\"Very negative/Detractor\",\"Negative/Detractor\",\"Negative/Detractor\"],\"values\":[24,74,0,0,6,36,42,74,5,29,88,3,8,9,18,35,8,10,5,236,1,0,9,7,7,9,4,10,5,7,8,9,2,6,16,6],\"type\":\"sunburst\"}],                        {\"template\":{\"data\":{\"histogram2dcontour\":[{\"type\":\"histogram2dcontour\",\"colorbar\":{\"outlinewidth\":0,\"ticks\":\"\"},\"colorscale\":[[0.0,\"#0d0887\"],[0.1111111111111111,\"#46039f\"],[0.2222222222222222,\"#7201a8\"],[0.3333333333333333,\"#9c179e\"],[0.4444444444444444,\"#bd3786\"],[0.5555555555555556,\"#d8576b\"],[0.6666666666666666,\"#ed7953\"],[0.7777777777777778,\"#fb9f3a\"],[0.8888888888888888,\"#fdca26\"],[1.0,\"#f0f921\"]]}],\"choropleth\":[{\"type\":\"choropleth\",\"colorbar\":{\"outlinewidth\":0,\"ticks\":\"\"}}],\"histogram2d\":[{\"type\":\"histogram2d\",\"colorbar\":{\"outlinewidth\":0,\"ticks\":\"\"},\"colorscale\":[[0.0,\"#0d0887\"],[0.1111111111111111,\"#46039f\"],[0.2222222222222222,\"#7201a8\"],[0.3333333333333333,\"#9c179e\"],[0.4444444444444444,\"#bd3786\"],[0.5555555555555556,\"#d8576b\"],[0.6666666666666666,\"#ed7953\"],[0.7777777777777778,\"#fb9f3a\"],[0.8888888888888888,\"#fdca26\"],[1.0,\"#f0f921\"]]}],\"heatmap\":[{\"type\":\"heatmap\",\"colorbar\":{\"outlinewidth\":0,\"ticks\":\"\"},\"colorscale\":[[0.0,\"#0d0887\"],[0.1111111111111111,\"#46039f\"],[0.2222222222222222,\"#7201a8\"],[0.3333333333333333,\"#9c179e\"],[0.4444444444444444,\"#bd3786\"],[0.5555555555555556,\"#d8576b\"],[0.6666666666666666,\"#ed7953\"],[0.7777777777777778,\"#fb9f3a\"],[0.8888888888888888,\"#fdca26\"],[1.0,\"#f0f921\"]]}],\"heatmapgl\":[{\"type\":\"heatmapgl\",\"colorbar\":{\"outlinewidth\":0,\"ticks\":\"\"},\"colorscale\":[[0.0,\"#0d0887\"],[0.1111111111111111,\"#46039f\"],[0.2222222222222222,\"#7201a8\"],[0.3333333333333333,\"#9c179e\"],[0.4444444444444444,\"#bd3786\"],[0.5555555555555556,\"#d8576b\"],[0.6666666666666666,\"#ed7953\"],[0.7777777777777778,\"#fb9f3a\"],[0.8888888888888888,\"#fdca26\"],[1.0,\"#f0f921\"]]}],\"contourcarpet\":[{\"type\":\"contourcarpet\",\"colorbar\":{\"outlinewidth\":0,\"ticks\":\"\"}}],\"contour\":[{\"type\":\"contour\",\"colorbar\":{\"outlinewidth\":0,\"ticks\":\"\"},\"colorscale\":[[0.0,\"#0d0887\"],[0.1111111111111111,\"#46039f\"],[0.2222222222222222,\"#7201a8\"],[0.3333333333333333,\"#9c179e\"],[0.4444444444444444,\"#bd3786\"],[0.5555555555555556,\"#d8576b\"],[0.6666666666666666,\"#ed7953\"],[0.7777777777777778,\"#fb9f3a\"],[0.8888888888888888,\"#fdca26\"],[1.0,\"#f0f921\"]]}],\"surface\":[{\"type\":\"surface\",\"colorbar\":{\"outlinewidth\":0,\"ticks\":\"\"},\"colorscale\":[[0.0,\"#0d0887\"],[0.1111111111111111,\"#46039f\"],[0.2222222222222222,\"#7201a8\"],[0.3333333333333333,\"#9c179e\"],[0.4444444444444444,\"#bd3786\"],[0.5555555555555556,\"#d8576b\"],[0.6666666666666666,\"#ed7953\"],[0.7777777777777778,\"#fb9f3a\"],[0.8888888888888888,\"#fdca26\"],[1.0,\"#f0f921\"]]}],\"mesh3d\":[{\"type\":\"mesh3d\",\"colorbar\":{\"outlinewidth\":0,\"ticks\":\"\"}}],\"scatter\":[{\"fillpattern\":{\"fillmode\":\"overlay\",\"size\":10,\"solidity\":0.2},\"type\":\"scatter\"}],\"parcoords\":[{\"type\":\"parcoords\",\"line\":{\"colorbar\":{\"outlinewidth\":0,\"ticks\":\"\"}}}],\"scatterpolargl\":[{\"type\":\"scatterpolargl\",\"marker\":{\"colorbar\":{\"outlinewidth\":0,\"ticks\":\"\"}}}],\"bar\":[{\"error_x\":{\"color\":\"#2a3f5f\"},\"error_y\":{\"color\":\"#2a3f5f\"},\"marker\":{\"line\":{\"color\":\"#E5ECF6\",\"width\":0.5},\"pattern\":{\"fillmode\":\"overlay\",\"size\":10,\"solidity\":0.2}},\"type\":\"bar\"}],\"scattergeo\":[{\"type\":\"scattergeo\",\"marker\":{\"colorbar\":{\"outlinewidth\":0,\"ticks\":\"\"}}}],\"scatterpolar\":[{\"type\":\"scatterpolar\",\"marker\":{\"colorbar\":{\"outlinewidth\":0,\"ticks\":\"\"}}}],\"histogram\":[{\"marker\":{\"pattern\":{\"fillmode\":\"overlay\",\"size\":10,\"solidity\":0.2}},\"type\":\"histogram\"}],\"scattergl\":[{\"type\":\"scattergl\",\"marker\":{\"colorbar\":{\"outlinewidth\":0,\"ticks\":\"\"}}}],\"scatter3d\":[{\"type\":\"scatter3d\",\"line\":{\"colorbar\":{\"outlinewidth\":0,\"ticks\":\"\"}},\"marker\":{\"colorbar\":{\"outlinewidth\":0,\"ticks\":\"\"}}}],\"scattermapbox\":[{\"type\":\"scattermapbox\",\"marker\":{\"colorbar\":{\"outlinewidth\":0,\"ticks\":\"\"}}}],\"scatterternary\":[{\"type\":\"scatterternary\",\"marker\":{\"colorbar\":{\"outlinewidth\":0,\"ticks\":\"\"}}}],\"scattercarpet\":[{\"type\":\"scattercarpet\",\"marker\":{\"colorbar\":{\"outlinewidth\":0,\"ticks\":\"\"}}}],\"carpet\":[{\"aaxis\":{\"endlinecolor\":\"#2a3f5f\",\"gridcolor\":\"white\",\"linecolor\":\"white\",\"minorgridcolor\":\"white\",\"startlinecolor\":\"#2a3f5f\"},\"baxis\":{\"endlinecolor\":\"#2a3f5f\",\"gridcolor\":\"white\",\"linecolor\":\"white\",\"minorgridcolor\":\"white\",\"startlinecolor\":\"#2a3f5f\"},\"type\":\"carpet\"}],\"table\":[{\"cells\":{\"fill\":{\"color\":\"#EBF0F8\"},\"line\":{\"color\":\"white\"}},\"header\":{\"fill\":{\"color\":\"#C8D4E3\"},\"line\":{\"color\":\"white\"}},\"type\":\"table\"}],\"barpolar\":[{\"marker\":{\"line\":{\"color\":\"#E5ECF6\",\"width\":0.5},\"pattern\":{\"fillmode\":\"overlay\",\"size\":10,\"solidity\":0.2}},\"type\":\"barpolar\"}],\"pie\":[{\"automargin\":true,\"type\":\"pie\"}]},\"layout\":{\"autotypenumbers\":\"strict\",\"colorway\":[\"#636efa\",\"#EF553B\",\"#00cc96\",\"#ab63fa\",\"#FFA15A\",\"#19d3f3\",\"#FF6692\",\"#B6E880\",\"#FF97FF\",\"#FECB52\"],\"font\":{\"color\":\"#2a3f5f\"},\"hovermode\":\"closest\",\"hoverlabel\":{\"align\":\"left\"},\"paper_bgcolor\":\"white\",\"plot_bgcolor\":\"#E5ECF6\",\"polar\":{\"bgcolor\":\"#E5ECF6\",\"angularaxis\":{\"gridcolor\":\"white\",\"linecolor\":\"white\",\"ticks\":\"\"},\"radialaxis\":{\"gridcolor\":\"white\",\"linecolor\":\"white\",\"ticks\":\"\"}},\"ternary\":{\"bgcolor\":\"#E5ECF6\",\"aaxis\":{\"gridcolor\":\"white\",\"linecolor\":\"white\",\"ticks\":\"\"},\"baxis\":{\"gridcolor\":\"white\",\"linecolor\":\"white\",\"ticks\":\"\"},\"caxis\":{\"gridcolor\":\"white\",\"linecolor\":\"white\",\"ticks\":\"\"}},\"coloraxis\":{\"colorbar\":{\"outlinewidth\":0,\"ticks\":\"\"}},\"colorscale\":{\"sequential\":[[0.0,\"#0d0887\"],[0.1111111111111111,\"#46039f\"],[0.2222222222222222,\"#7201a8\"],[0.3333333333333333,\"#9c179e\"],[0.4444444444444444,\"#bd3786\"],[0.5555555555555556,\"#d8576b\"],[0.6666666666666666,\"#ed7953\"],[0.7777777777777778,\"#fb9f3a\"],[0.8888888888888888,\"#fdca26\"],[1.0,\"#f0f921\"]],\"sequentialminus\":[[0.0,\"#0d0887\"],[0.1111111111111111,\"#46039f\"],[0.2222222222222222,\"#7201a8\"],[0.3333333333333333,\"#9c179e\"],[0.4444444444444444,\"#bd3786\"],[0.5555555555555556,\"#d8576b\"],[0.6666666666666666,\"#ed7953\"],[0.7777777777777778,\"#fb9f3a\"],[0.8888888888888888,\"#fdca26\"],[1.0,\"#f0f921\"]],\"diverging\":[[0,\"#8e0152\"],[0.1,\"#c51b7d\"],[0.2,\"#de77ae\"],[0.3,\"#f1b6da\"],[0.4,\"#fde0ef\"],[0.5,\"#f7f7f7\"],[0.6,\"#e6f5d0\"],[0.7,\"#b8e186\"],[0.8,\"#7fbc41\"],[0.9,\"#4d9221\"],[1,\"#276419\"]]},\"xaxis\":{\"gridcolor\":\"white\",\"linecolor\":\"white\",\"ticks\":\"\",\"title\":{\"standoff\":15},\"zerolinecolor\":\"white\",\"automargin\":true,\"zerolinewidth\":2},\"yaxis\":{\"gridcolor\":\"white\",\"linecolor\":\"white\",\"ticks\":\"\",\"title\":{\"standoff\":15},\"zerolinecolor\":\"white\",\"automargin\":true,\"zerolinewidth\":2},\"scene\":{\"xaxis\":{\"backgroundcolor\":\"#E5ECF6\",\"gridcolor\":\"white\",\"linecolor\":\"white\",\"showbackground\":true,\"ticks\":\"\",\"zerolinecolor\":\"white\",\"gridwidth\":2},\"yaxis\":{\"backgroundcolor\":\"#E5ECF6\",\"gridcolor\":\"white\",\"linecolor\":\"white\",\"showbackground\":true,\"ticks\":\"\",\"zerolinecolor\":\"white\",\"gridwidth\":2},\"zaxis\":{\"backgroundcolor\":\"#E5ECF6\",\"gridcolor\":\"white\",\"linecolor\":\"white\",\"showbackground\":true,\"ticks\":\"\",\"zerolinecolor\":\"white\",\"gridwidth\":2}},\"shapedefaults\":{\"line\":{\"color\":\"#2a3f5f\"}},\"annotationdefaults\":{\"arrowcolor\":\"#2a3f5f\",\"arrowhead\":0,\"arrowwidth\":1},\"geo\":{\"bgcolor\":\"white\",\"landcolor\":\"#E5ECF6\",\"subunitcolor\":\"white\",\"showland\":true,\"showlakes\":true,\"lakecolor\":\"white\"},\"title\":{\"x\":0.05},\"mapbox\":{\"style\":\"light\"}}},\"legend\":{\"tracegroupgap\":0},\"margin\":{\"t\":60}},                        {\"responsive\": true}                    ).then(function(){\n",
       "                            \n",
       "var gd = document.getElementById('35c4a4c3-93cf-419e-9306-d929bba971e7');\n",
       "var x = new MutationObserver(function (mutations, observer) {{\n",
       "        var display = window.getComputedStyle(gd).display;\n",
       "        if (!display || display === 'none') {{\n",
       "            console.log([gd, 'removed!']);\n",
       "            Plotly.purge(gd);\n",
       "            observer.disconnect();\n",
       "        }}\n",
       "}});\n",
       "\n",
       "// Listen for the removal of the full notebook cells\n",
       "var notebookContainer = gd.closest('#notebook-container');\n",
       "if (notebookContainer) {{\n",
       "    x.observe(notebookContainer, {childList: true});\n",
       "}}\n",
       "\n",
       "// Listen for the clearing of the current output cell\n",
       "var outputEl = gd.closest('.output');\n",
       "if (outputEl) {{\n",
       "    x.observe(outputEl, {childList: true});\n",
       "}}\n",
       "\n",
       "                        })                };                });            </script>        </div>"
      ]
     },
     "metadata": {},
     "output_type": "display_data"
    }
   ],
   "source": [
    "import plotly.express as px\n",
    "import pandas as pd\n",
    "prs = [\"Detractor\",\"Detractor\",\"Detractor\",\"Passive\",\"Passive\",\"Detractor\",\"Passive\",\"Promoter\",\"Detractor\",\"Detractor\",\"Passive\",\"Detractor\",\"Detractor\",\"Detractor\",\"Detractor\",\"Detractor\",\"Passive\",\"Promoter\",\"Detractor\",\"Detractor\",\"Detractor\",\"Passive\",\"Detractor\",\"Detractor\",\"Detractor\",\"Promoter\",\"Promoter\",\"Passive\",\"Detractor\",\"Detractor\",\"Detractor\",\"Promoter\",\"Passive\",\"Detractor\",\"Detractor\",\"Promoter\",\"Promoter\",\"Detractor\",\"Detractor\",\"Passive\",\"Promoter\",\"Detractor\",\"Detractor\",\"Passive\",\"Detractor\",\"Detractor\",\"Detractor\",\"Detractor\",\"Detractor\",\"Detractor\",\"Passive\",\"Detractor\",\"Detractor\",\"Detractor\",\"Detractor\",\"Detractor\",\"Detractor\",\"Detractor\",\"Detractor\",\"Detractor\",\"Detractor\",\"Detractor\"]\n",
    "topics = [\"N/A\",\"Subscription\",\"Subscription\",\"Mileage\",\"N/A\",\"N/A\",\"Accounting Automation\",\"Other\",\"Invoice\",\"Invoice\",\"N/A\",\"N/A\",\"N/A\",\"N/A\",\"Usability\",\"N/A\",\"Mileage\",\"Invoice\",\"N/A\",\"N/A\",\"Accounting Automation\",\"Invoice\",\"Accounting Automation\",\"Accounting Automation\",\"Accounting Automation\",\"Expense\",\"Mileage\",\"Mileage\",\"N/A\",\"Estimate\",\"Estimate\",\"N/A\",\"N/A\",\"Bookkeeping\",\"N/A\",\"Accounting Automation\",\"N/A\",\"Invoice\",\"Assisted Delivery\",\"N/A\",\"Milieage\",\"Logging In\",\"N/A\",\"N/A\",\"Usability\",\"N/A\",\"N/A\",\"Logging In\",\"Usability\",\"N/A\",\"Expense\",\"Accounting Automation\",\"Assisted Delivery\",\"Invoice\",\"N/A\",\"Mileage\",\"Accounting Automation\",\"Assisted Delivery\",\"Subscription\",\"N/A\",\"Mileage\",\"Invoice\"]\n",
    "sentiment = [\"Negative\",\"Negative\",\"Negative\",\"Negative\",\"Negative\",\"Negative\",\"Negative\",\"Negative\",\"Negative\",\"Negative\",\"Negative\",\"Negative\",\"Negative\",\"Negative\",\"Negative\",\"Negative\",\"Negative\",\"Negative\",\"Negative\",\"Negative\",\"Negative\",\"Negative\",\"Negative\",\"Negative\",\"Negative\",\"Negative\",\"Negative\",\"Negative\",\"Negative\",\"Negative\",\"Negative\",\"Negative\",\"Negative\",\"Negative\",\"Negative\",\"Negative\",\"Negative\",\"Negative\",\"Negative\",\"Negative\",\"Negative\",\"Negative\",\"Negative\",\"Negative\",\"Negative\",\"Negative\",\"Negative\",\"Very negative\",\"Very negative\",\"Very negative\",\"Very negative\",\"Very negative\",\"Very negative\",\"Very negative\",\"Very negative\",\"Very negative\",\"Very negative\",\"Very negative\",\"Very negative\",\"Very negative\",\"Very negative\",\"Very negative\"]\n",
    "score = [5,0,0,8,7,3,8,9,5,5,7,6,5,1,5,0,8,9,4,5,0,7,0,0,5,10,9,8,6,3,3,9,7,6,0,9,9,6,5,7,10,0,1,7,3,2,4,1,3,2,7,0,2,2,0,3,5,6,0,0,3,2]\n",
    "colors = []\n",
    "#for p in prs:\n",
    "    #if p in [\"Detractor\"]:\n",
    "        #colors.append(\"red\")\n",
    "    #elif p in [\"Passive\"]:\n",
    "        #colors.append(\"yellow\")\n",
    "    #else:\n",
    "        #colors.append(\"green\")\n",
    "df = pd.DataFrame(\n",
    "    dict(prs=prs, topics=topics, sentiment=sentiment, score=score, colors=colors)\n",
    ")\n",
    "print(df)\n",
    "fig = px.sunburst(df, path=['sentiment', 'prs', 'topics'], values='score', color='colors')\n",
    "fig.show()"
   ]
  },
  {
   "cell_type": "code",
   "execution_count": 10,
   "id": "47bd76c9-2ff3-4cbc-a923-a146797890df",
   "metadata": {},
   "outputs": [],
   "source": [
    "fig.write_html('sunburst.html')"
   ]
  },
  {
   "cell_type": "code",
   "execution_count": 25,
   "id": "83c5b455-2657-453b-8b63-1923d8eec58f",
   "metadata": {},
   "outputs": [
    {
     "ename": "AttributeError",
     "evalue": "'dict' object has no attribute 'index'",
     "output_type": "error",
     "traceback": [
      "\u001b[0;31m---------------------------------------------------------------------------\u001b[0m",
      "\u001b[0;31mAttributeError\u001b[0m                            Traceback (most recent call last)",
      "\u001b[0;32m/tmp/ipykernel_156/2247293146.py\u001b[0m in \u001b[0;36m<cell line: 4>\u001b[0;34m()\u001b[0m\n\u001b[1;32m      2\u001b[0m \u001b[0mlist_of_images\u001b[0m\u001b[0;34m=\u001b[0m\u001b[0;34m[\u001b[0m\u001b[0;34m'mad-pika.jpg'\u001b[0m\u001b[0;34m,\u001b[0m \u001b[0;34m'happy-pika.jpg'\u001b[0m\u001b[0;34m,\u001b[0m \u001b[0;34m'sad-pika.jpg'\u001b[0m\u001b[0;34m]\u001b[0m\u001b[0;34m\u001b[0m\u001b[0;34m\u001b[0m\u001b[0m\n\u001b[1;32m      3\u001b[0m \u001b[0moptions\u001b[0m\u001b[0;34m=\u001b[0m\u001b[0;34m{\u001b[0m\u001b[0mlist_of_choices\u001b[0m\u001b[0;34m[\u001b[0m\u001b[0mi\u001b[0m\u001b[0;34m]\u001b[0m\u001b[0;34m:\u001b[0m\u001b[0mlist_of_images\u001b[0m\u001b[0;34m[\u001b[0m\u001b[0mi\u001b[0m\u001b[0;34m]\u001b[0m \u001b[0;32mfor\u001b[0m \u001b[0mi\u001b[0m \u001b[0;32min\u001b[0m \u001b[0mrange\u001b[0m\u001b[0;34m(\u001b[0m\u001b[0mlen\u001b[0m\u001b[0;34m(\u001b[0m\u001b[0mlist_of_choices\u001b[0m\u001b[0;34m)\u001b[0m\u001b[0;34m)\u001b[0m\u001b[0;34m}\u001b[0m\u001b[0;34m\u001b[0m\u001b[0;34m\u001b[0m\u001b[0m\n\u001b[0;32m----> 4\u001b[0;31m \u001b[0mprint\u001b[0m\u001b[0;34m(\u001b[0m\u001b[0moptions\u001b[0m\u001b[0;34m.\u001b[0m\u001b[0mindex\u001b[0m\u001b[0;34m(\u001b[0m\u001b[0;34m'mad-pika.jpg'\u001b[0m\u001b[0;34m)\u001b[0m\u001b[0;34m)\u001b[0m\u001b[0;34m\u001b[0m\u001b[0;34m\u001b[0m\u001b[0m\n\u001b[0m",
      "\u001b[0;31mAttributeError\u001b[0m: 'dict' object has no attribute 'index'"
     ]
    }
   ],
   "source": [
    "list_of_choices=['punch', 'body-slam', 'round-house kick to the face']\n",
    "list_of_images=['mad-pika.jpg', 'happy-pika.jpg', 'sad-pika.jpg']\n",
    "options={list_of_choices[i]:list_of_images[i] for i in range(len(list_of_choices))}\n",
    "print(options.index('mad-pika.jpg'))"
   ]
  }
 ],
 "metadata": {
  "kernelspec": {
   "display_name": "default:Python",
   "language": "python",
   "name": "conda-env-default-py"
  },
  "language_info": {
   "codemirror_mode": {
    "name": "ipython",
    "version": 3
   },
   "file_extension": ".py",
   "mimetype": "text/x-python",
   "name": "python",
   "nbconvert_exporter": "python",
   "pygments_lexer": "ipython3",
   "version": "3.9.13"
  }
 },
 "nbformat": 4,
 "nbformat_minor": 5
}
